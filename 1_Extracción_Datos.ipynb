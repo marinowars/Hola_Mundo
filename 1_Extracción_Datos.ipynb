{
  "nbformat": 4,
  "nbformat_minor": 0,
  "metadata": {
    "colab": {
      "provenance": [],
      "authorship_tag": "ABX9TyMYo+NMWn40NnADam9Rro4V",
      "include_colab_link": true
    },
    "kernelspec": {
      "name": "python3",
      "display_name": "Python 3"
    },
    "language_info": {
      "name": "python"
    }
  },
  "cells": [
    {
      "cell_type": "markdown",
      "metadata": {
        "id": "view-in-github",
        "colab_type": "text"
      },
      "source": [
        "<a href=\"https://colab.research.google.com/github/marinowars/Hola_Mundo/blob/main/1_Extracci%C3%B3n_Datos.ipynb\" target=\"_parent\"><img src=\"https://colab.research.google.com/assets/colab-badge.svg\" alt=\"Open In Colab\"/></a>"
      ]
    },
    {
      "cell_type": "code",
      "execution_count": 1,
      "metadata": {
        "id": "zgS2GU_vp9Df"
      },
      "outputs": [],
      "source": [
        "#Importamos librerías requeridas\n",
        "import pandas as pd\n",
        "import numpy as np\n",
        "import matplotlib.pyplot as plt\n",
        "import seaborn as sns\n",
        "import io"
      ]
    },
    {
      "cell_type": "code",
      "source": [
        "#Cargar archivo csv desde equipo\n",
        "from google.colab import files\n",
        "files.upload()\n"
      ],
      "metadata": {
        "id": "mQkN7TQKsdlN"
      },
      "execution_count": null,
      "outputs": []
    },
    {
      "cell_type": "code",
      "source": [
        "#Convertir en dataframe\n",
        "df=pd.read_csv(\"file.csv\")\n",
        "df"
      ],
      "metadata": {
        "colab": {
          "base_uri": "https://localhost:8080/",
          "height": 485
        },
        "id": "RCFGMV1RsrTW",
        "outputId": "096ac855-e124-43c2-d775-f54fb71d84cd"
      },
      "execution_count": 31,
      "outputs": [
        {
          "output_type": "execute_result",
          "data": {
            "text/plain": [
              "      Periodo  Trimestre Entidad_Federativa     Sexo  \\\n",
              "0        2005          1           Nacional  Hombres   \n",
              "1        2005          1           Nacional  Mujeres   \n",
              "2        2005          1     Aguascalientes  Hombres   \n",
              "3        2005          1     Aguascalientes  Mujeres   \n",
              "4        2005          1    Baja California  Hombres   \n",
              "...       ...        ...                ...      ...   \n",
              "4549     2022          1           Veracruz  Mujeres   \n",
              "4550     2022          1            Yucat n  Hombres   \n",
              "4551     2022          1            Yucat n  Mujeres   \n",
              "4552     2022          1          Zacatecas  Hombres   \n",
              "4553     2022          1          Zacatecas  Mujeres   \n",
              "\n",
              "     Poblacion_ocupada_en_la_industria_manufacturera Poblaci n_ocupada  \\\n",
              "0                                            4384907          26597801   \n",
              "1                                            2690296          14843275   \n",
              "2                                              56407            246177   \n",
              "3                                              28430            145656   \n",
              "4                                             167651            768989   \n",
              "...                                              ...               ...   \n",
              "4549                                          107640           1190733   \n",
              "4550                                          101992            691397   \n",
              "4551                                           82759            478943   \n",
              "4552                                           44105            402326   \n",
              "4553                                           39472            255761   \n",
              "\n",
              "     Tasa_de_ocupaci n_en_la_industria_manufacturera  \n",
              "0                           16.485975660000000000000  \n",
              "1                           18.124679360000000000000  \n",
              "2                           22.913188480000000000000  \n",
              "3                           19.518591750000000000000  \n",
              "4                           21.801482210000000000000  \n",
              "...                                              ...  \n",
              "4549                        9.0398099320000000000000  \n",
              "4550                        14.751582670000000000000  \n",
              "4551                        17.279509250000000000000  \n",
              "4552                        10.962503040000000000000  \n",
              "4553                         15.43315830000000000000  \n",
              "\n",
              "[4554 rows x 7 columns]"
            ],
            "text/html": [
              "\n",
              "  <div id=\"df-492c65a8-b213-4692-bdd3-763bfeeffe5f\">\n",
              "    <div class=\"colab-df-container\">\n",
              "      <div>\n",
              "<style scoped>\n",
              "    .dataframe tbody tr th:only-of-type {\n",
              "        vertical-align: middle;\n",
              "    }\n",
              "\n",
              "    .dataframe tbody tr th {\n",
              "        vertical-align: top;\n",
              "    }\n",
              "\n",
              "    .dataframe thead th {\n",
              "        text-align: right;\n",
              "    }\n",
              "</style>\n",
              "<table border=\"1\" class=\"dataframe\">\n",
              "  <thead>\n",
              "    <tr style=\"text-align: right;\">\n",
              "      <th></th>\n",
              "      <th>Periodo</th>\n",
              "      <th>Trimestre</th>\n",
              "      <th>Entidad_Federativa</th>\n",
              "      <th>Sexo</th>\n",
              "      <th>Poblacion_ocupada_en_la_industria_manufacturera</th>\n",
              "      <th>Poblaci n_ocupada</th>\n",
              "      <th>Tasa_de_ocupaci n_en_la_industria_manufacturera</th>\n",
              "    </tr>\n",
              "  </thead>\n",
              "  <tbody>\n",
              "    <tr>\n",
              "      <th>0</th>\n",
              "      <td>2005</td>\n",
              "      <td>1</td>\n",
              "      <td>Nacional</td>\n",
              "      <td>Hombres</td>\n",
              "      <td>4384907</td>\n",
              "      <td>26597801</td>\n",
              "      <td>16.485975660000000000000</td>\n",
              "    </tr>\n",
              "    <tr>\n",
              "      <th>1</th>\n",
              "      <td>2005</td>\n",
              "      <td>1</td>\n",
              "      <td>Nacional</td>\n",
              "      <td>Mujeres</td>\n",
              "      <td>2690296</td>\n",
              "      <td>14843275</td>\n",
              "      <td>18.124679360000000000000</td>\n",
              "    </tr>\n",
              "    <tr>\n",
              "      <th>2</th>\n",
              "      <td>2005</td>\n",
              "      <td>1</td>\n",
              "      <td>Aguascalientes</td>\n",
              "      <td>Hombres</td>\n",
              "      <td>56407</td>\n",
              "      <td>246177</td>\n",
              "      <td>22.913188480000000000000</td>\n",
              "    </tr>\n",
              "    <tr>\n",
              "      <th>3</th>\n",
              "      <td>2005</td>\n",
              "      <td>1</td>\n",
              "      <td>Aguascalientes</td>\n",
              "      <td>Mujeres</td>\n",
              "      <td>28430</td>\n",
              "      <td>145656</td>\n",
              "      <td>19.518591750000000000000</td>\n",
              "    </tr>\n",
              "    <tr>\n",
              "      <th>4</th>\n",
              "      <td>2005</td>\n",
              "      <td>1</td>\n",
              "      <td>Baja California</td>\n",
              "      <td>Hombres</td>\n",
              "      <td>167651</td>\n",
              "      <td>768989</td>\n",
              "      <td>21.801482210000000000000</td>\n",
              "    </tr>\n",
              "    <tr>\n",
              "      <th>...</th>\n",
              "      <td>...</td>\n",
              "      <td>...</td>\n",
              "      <td>...</td>\n",
              "      <td>...</td>\n",
              "      <td>...</td>\n",
              "      <td>...</td>\n",
              "      <td>...</td>\n",
              "    </tr>\n",
              "    <tr>\n",
              "      <th>4549</th>\n",
              "      <td>2022</td>\n",
              "      <td>1</td>\n",
              "      <td>Veracruz</td>\n",
              "      <td>Mujeres</td>\n",
              "      <td>107640</td>\n",
              "      <td>1190733</td>\n",
              "      <td>9.0398099320000000000000</td>\n",
              "    </tr>\n",
              "    <tr>\n",
              "      <th>4550</th>\n",
              "      <td>2022</td>\n",
              "      <td>1</td>\n",
              "      <td>Yucat n</td>\n",
              "      <td>Hombres</td>\n",
              "      <td>101992</td>\n",
              "      <td>691397</td>\n",
              "      <td>14.751582670000000000000</td>\n",
              "    </tr>\n",
              "    <tr>\n",
              "      <th>4551</th>\n",
              "      <td>2022</td>\n",
              "      <td>1</td>\n",
              "      <td>Yucat n</td>\n",
              "      <td>Mujeres</td>\n",
              "      <td>82759</td>\n",
              "      <td>478943</td>\n",
              "      <td>17.279509250000000000000</td>\n",
              "    </tr>\n",
              "    <tr>\n",
              "      <th>4552</th>\n",
              "      <td>2022</td>\n",
              "      <td>1</td>\n",
              "      <td>Zacatecas</td>\n",
              "      <td>Hombres</td>\n",
              "      <td>44105</td>\n",
              "      <td>402326</td>\n",
              "      <td>10.962503040000000000000</td>\n",
              "    </tr>\n",
              "    <tr>\n",
              "      <th>4553</th>\n",
              "      <td>2022</td>\n",
              "      <td>1</td>\n",
              "      <td>Zacatecas</td>\n",
              "      <td>Mujeres</td>\n",
              "      <td>39472</td>\n",
              "      <td>255761</td>\n",
              "      <td>15.43315830000000000000</td>\n",
              "    </tr>\n",
              "  </tbody>\n",
              "</table>\n",
              "<p>4554 rows × 7 columns</p>\n",
              "</div>\n",
              "      <button class=\"colab-df-convert\" onclick=\"convertToInteractive('df-492c65a8-b213-4692-bdd3-763bfeeffe5f')\"\n",
              "              title=\"Convert this dataframe to an interactive table.\"\n",
              "              style=\"display:none;\">\n",
              "        \n",
              "  <svg xmlns=\"http://www.w3.org/2000/svg\" height=\"24px\"viewBox=\"0 0 24 24\"\n",
              "       width=\"24px\">\n",
              "    <path d=\"M0 0h24v24H0V0z\" fill=\"none\"/>\n",
              "    <path d=\"M18.56 5.44l.94 2.06.94-2.06 2.06-.94-2.06-.94-.94-2.06-.94 2.06-2.06.94zm-11 1L8.5 8.5l.94-2.06 2.06-.94-2.06-.94L8.5 2.5l-.94 2.06-2.06.94zm10 10l.94 2.06.94-2.06 2.06-.94-2.06-.94-.94-2.06-.94 2.06-2.06.94z\"/><path d=\"M17.41 7.96l-1.37-1.37c-.4-.4-.92-.59-1.43-.59-.52 0-1.04.2-1.43.59L10.3 9.45l-7.72 7.72c-.78.78-.78 2.05 0 2.83L4 21.41c.39.39.9.59 1.41.59.51 0 1.02-.2 1.41-.59l7.78-7.78 2.81-2.81c.8-.78.8-2.07 0-2.86zM5.41 20L4 18.59l7.72-7.72 1.47 1.35L5.41 20z\"/>\n",
              "  </svg>\n",
              "      </button>\n",
              "      \n",
              "  <style>\n",
              "    .colab-df-container {\n",
              "      display:flex;\n",
              "      flex-wrap:wrap;\n",
              "      gap: 12px;\n",
              "    }\n",
              "\n",
              "    .colab-df-convert {\n",
              "      background-color: #E8F0FE;\n",
              "      border: none;\n",
              "      border-radius: 50%;\n",
              "      cursor: pointer;\n",
              "      display: none;\n",
              "      fill: #1967D2;\n",
              "      height: 32px;\n",
              "      padding: 0 0 0 0;\n",
              "      width: 32px;\n",
              "    }\n",
              "\n",
              "    .colab-df-convert:hover {\n",
              "      background-color: #E2EBFA;\n",
              "      box-shadow: 0px 1px 2px rgba(60, 64, 67, 0.3), 0px 1px 3px 1px rgba(60, 64, 67, 0.15);\n",
              "      fill: #174EA6;\n",
              "    }\n",
              "\n",
              "    [theme=dark] .colab-df-convert {\n",
              "      background-color: #3B4455;\n",
              "      fill: #D2E3FC;\n",
              "    }\n",
              "\n",
              "    [theme=dark] .colab-df-convert:hover {\n",
              "      background-color: #434B5C;\n",
              "      box-shadow: 0px 1px 3px 1px rgba(0, 0, 0, 0.15);\n",
              "      filter: drop-shadow(0px 1px 2px rgba(0, 0, 0, 0.3));\n",
              "      fill: #FFFFFF;\n",
              "    }\n",
              "  </style>\n",
              "\n",
              "      <script>\n",
              "        const buttonEl =\n",
              "          document.querySelector('#df-492c65a8-b213-4692-bdd3-763bfeeffe5f button.colab-df-convert');\n",
              "        buttonEl.style.display =\n",
              "          google.colab.kernel.accessAllowed ? 'block' : 'none';\n",
              "\n",
              "        async function convertToInteractive(key) {\n",
              "          const element = document.querySelector('#df-492c65a8-b213-4692-bdd3-763bfeeffe5f');\n",
              "          const dataTable =\n",
              "            await google.colab.kernel.invokeFunction('convertToInteractive',\n",
              "                                                     [key], {});\n",
              "          if (!dataTable) return;\n",
              "\n",
              "          const docLinkHtml = 'Like what you see? Visit the ' +\n",
              "            '<a target=\"_blank\" href=https://colab.research.google.com/notebooks/data_table.ipynb>data table notebook</a>'\n",
              "            + ' to learn more about interactive tables.';\n",
              "          element.innerHTML = '';\n",
              "          dataTable['output_type'] = 'display_data';\n",
              "          await google.colab.output.renderOutput(dataTable, element);\n",
              "          const docLink = document.createElement('div');\n",
              "          docLink.innerHTML = docLinkHtml;\n",
              "          element.appendChild(docLink);\n",
              "        }\n",
              "      </script>\n",
              "    </div>\n",
              "  </div>\n",
              "  "
            ]
          },
          "metadata": {},
          "execution_count": 31
        }
      ]
    },
    {
      "cell_type": "code",
      "source": [
        "#Imprimimos las primeras filas o registros del Dataframe\n",
        "df.head(5)"
      ],
      "metadata": {
        "id": "6lUfHlerte9X"
      },
      "execution_count": null,
      "outputs": []
    },
    {
      "cell_type": "markdown",
      "source": [
        "**FILTROS BASICOS PARA VARIABLES CUALITATIVAS**"
      ],
      "metadata": {
        "id": "PPc8wG7Qtm72"
      }
    },
    {
      "cell_type": "code",
      "source": [
        "#Filtro por objeto\n",
        "filtro1=df[df[\"Entidad_Federativa\"] == \"Baja California\"]\n",
        "filtro1"
      ],
      "metadata": {
        "id": "d2Rc5PaLtuoK"
      },
      "execution_count": null,
      "outputs": []
    },
    {
      "cell_type": "code",
      "source": [
        "#Filtro por filas\n",
        "filtro2= df.iloc[0:99,: ]\n",
        "#filtro2=df.iloc[[1000, 2000, 3000], : ]  #filas no consecutivas\n",
        "filtro2"
      ],
      "metadata": {
        "id": "g0FdVQGEveu3"
      },
      "execution_count": null,
      "outputs": []
    },
    {
      "cell_type": "code",
      "source": [
        "#Filtro por columnas\n",
        "#filtro3=df.iloc[ : , 4:6]\n",
        "filtro3=df.iloc[ : , [1,4,6]] #columnas no consecutivas\n",
        "filtro3"
      ],
      "metadata": {
        "id": "CCg2oke0v9ht"
      },
      "execution_count": null,
      "outputs": []
    },
    {
      "cell_type": "code",
      "source": [
        "#Filtro por columnas y por filas\n",
        "filtro_mix=df.iloc[ [10,20,50] , 2:5]\n",
        "#filtro3=df.iloc[ : , [1,4,6]] #columnas no consecutivas\n",
        "filtro_mix"
      ],
      "metadata": {
        "id": "hDiDPwpqyx4f"
      },
      "execution_count": null,
      "outputs": []
    },
    {
      "cell_type": "code",
      "source": [
        "#Filtro de filas vs columnas\n",
        "#Paso 1: Leemos el contenido del archivo\n",
        "from google.colab import files\n",
        "uploaded=files.upload()\n",
        "df = pd.read_csv(io.BytesIO(uploaded[\"file.csv\"]), index_col=2)\n",
        "df"
      ],
      "metadata": {
        "id": "VneADQz7ziBZ"
      },
      "execution_count": null,
      "outputs": []
    },
    {
      "cell_type": "code",
      "source": [
        "#Paso 2:Aplicamos Filtro de filas vs columnas\n",
        "filtro4=df.loc[[\"Puebla\",\"Oaxaca\",\"Veracruz\",\"Guerrero\"],[\"Poblacion_ocupada_en_la_industria_manufacturera\"]]\n",
        "filtro4"
      ],
      "metadata": {
        "id": "wQqzAr6j2aiS"
      },
      "execution_count": null,
      "outputs": []
    },
    {
      "cell_type": "code",
      "source": [
        "#Filtro por cabecera\n",
        "filtro5=df.head()\n",
        "filtro5"
      ],
      "metadata": {
        "id": "Kavt5itJ3MEJ"
      },
      "execution_count": null,
      "outputs": []
    },
    {
      "cell_type": "markdown",
      "source": [
        "**FILTROS BASICOS PARA VARIABLES CUANTITATIVAS**"
      ],
      "metadata": {
        "id": "dipAcumf404c"
      }
    },
    {
      "cell_type": "code",
      "source": [
        "#Filtro por comparacion\n",
        "filtro6=df[df[\"Periodo\"] >2010]\n",
        "filtro6"
      ],
      "metadata": {
        "id": "cDNmiq4Z4-B2"
      },
      "execution_count": null,
      "outputs": []
    },
    {
      "cell_type": "markdown",
      "source": [
        "FILTROS BASICOS CON CONECTORES LOGICOS"
      ],
      "metadata": {
        "id": "G0F9yF7B7kZg"
      }
    },
    {
      "cell_type": "code",
      "source": [
        "#Filtro Y\n",
        "filtro7=df[(df[\"Periodo\"] == 2015) & (df[\"Sexo\"] == \"Hombres\") & (df[\"Entidad_Federativa\"] == \"Puebla\")]\n",
        "filtro7"
      ],
      "metadata": {
        "colab": {
          "base_uri": "https://localhost:8080/",
          "height": 236
        },
        "id": "fpraPl1o7oGg",
        "outputId": "549e8ce4-2e3f-4d9e-9991-d5c60d80f846"
      },
      "execution_count": 32,
      "outputs": [
        {
          "output_type": "execute_result",
          "data": {
            "text/plain": [
              "      Periodo  Trimestre Entidad_Federativa     Sexo  \\\n",
              "2682     2015          1             Puebla  Hombres   \n",
              "2748     2015          2             Puebla  Hombres   \n",
              "2814     2015          3             Puebla  Hombres   \n",
              "2880     2015          4             Puebla  Hombres   \n",
              "\n",
              "     Poblacion_ocupada_en_la_industria_manufacturera Poblaci n_ocupada  \\\n",
              "2682                                          213571           1549409   \n",
              "2748                                          209708           1602273   \n",
              "2814                                          231235           1559704   \n",
              "2880                                          228012           1619413   \n",
              "\n",
              "     Tasa_de_ocupaci n_en_la_industria_manufacturera  \n",
              "2682                        13.784029910000000000000  \n",
              "2748                        13.088156640000000000000  \n",
              "2814                        14.825569470000000000000  \n",
              "2880                        14.079916610000000000000  "
            ],
            "text/html": [
              "\n",
              "  <div id=\"df-164e944a-6dc6-4354-a44d-24d468e52ddc\">\n",
              "    <div class=\"colab-df-container\">\n",
              "      <div>\n",
              "<style scoped>\n",
              "    .dataframe tbody tr th:only-of-type {\n",
              "        vertical-align: middle;\n",
              "    }\n",
              "\n",
              "    .dataframe tbody tr th {\n",
              "        vertical-align: top;\n",
              "    }\n",
              "\n",
              "    .dataframe thead th {\n",
              "        text-align: right;\n",
              "    }\n",
              "</style>\n",
              "<table border=\"1\" class=\"dataframe\">\n",
              "  <thead>\n",
              "    <tr style=\"text-align: right;\">\n",
              "      <th></th>\n",
              "      <th>Periodo</th>\n",
              "      <th>Trimestre</th>\n",
              "      <th>Entidad_Federativa</th>\n",
              "      <th>Sexo</th>\n",
              "      <th>Poblacion_ocupada_en_la_industria_manufacturera</th>\n",
              "      <th>Poblaci n_ocupada</th>\n",
              "      <th>Tasa_de_ocupaci n_en_la_industria_manufacturera</th>\n",
              "    </tr>\n",
              "  </thead>\n",
              "  <tbody>\n",
              "    <tr>\n",
              "      <th>2682</th>\n",
              "      <td>2015</td>\n",
              "      <td>1</td>\n",
              "      <td>Puebla</td>\n",
              "      <td>Hombres</td>\n",
              "      <td>213571</td>\n",
              "      <td>1549409</td>\n",
              "      <td>13.784029910000000000000</td>\n",
              "    </tr>\n",
              "    <tr>\n",
              "      <th>2748</th>\n",
              "      <td>2015</td>\n",
              "      <td>2</td>\n",
              "      <td>Puebla</td>\n",
              "      <td>Hombres</td>\n",
              "      <td>209708</td>\n",
              "      <td>1602273</td>\n",
              "      <td>13.088156640000000000000</td>\n",
              "    </tr>\n",
              "    <tr>\n",
              "      <th>2814</th>\n",
              "      <td>2015</td>\n",
              "      <td>3</td>\n",
              "      <td>Puebla</td>\n",
              "      <td>Hombres</td>\n",
              "      <td>231235</td>\n",
              "      <td>1559704</td>\n",
              "      <td>14.825569470000000000000</td>\n",
              "    </tr>\n",
              "    <tr>\n",
              "      <th>2880</th>\n",
              "      <td>2015</td>\n",
              "      <td>4</td>\n",
              "      <td>Puebla</td>\n",
              "      <td>Hombres</td>\n",
              "      <td>228012</td>\n",
              "      <td>1619413</td>\n",
              "      <td>14.079916610000000000000</td>\n",
              "    </tr>\n",
              "  </tbody>\n",
              "</table>\n",
              "</div>\n",
              "      <button class=\"colab-df-convert\" onclick=\"convertToInteractive('df-164e944a-6dc6-4354-a44d-24d468e52ddc')\"\n",
              "              title=\"Convert this dataframe to an interactive table.\"\n",
              "              style=\"display:none;\">\n",
              "        \n",
              "  <svg xmlns=\"http://www.w3.org/2000/svg\" height=\"24px\"viewBox=\"0 0 24 24\"\n",
              "       width=\"24px\">\n",
              "    <path d=\"M0 0h24v24H0V0z\" fill=\"none\"/>\n",
              "    <path d=\"M18.56 5.44l.94 2.06.94-2.06 2.06-.94-2.06-.94-.94-2.06-.94 2.06-2.06.94zm-11 1L8.5 8.5l.94-2.06 2.06-.94-2.06-.94L8.5 2.5l-.94 2.06-2.06.94zm10 10l.94 2.06.94-2.06 2.06-.94-2.06-.94-.94-2.06-.94 2.06-2.06.94z\"/><path d=\"M17.41 7.96l-1.37-1.37c-.4-.4-.92-.59-1.43-.59-.52 0-1.04.2-1.43.59L10.3 9.45l-7.72 7.72c-.78.78-.78 2.05 0 2.83L4 21.41c.39.39.9.59 1.41.59.51 0 1.02-.2 1.41-.59l7.78-7.78 2.81-2.81c.8-.78.8-2.07 0-2.86zM5.41 20L4 18.59l7.72-7.72 1.47 1.35L5.41 20z\"/>\n",
              "  </svg>\n",
              "      </button>\n",
              "      \n",
              "  <style>\n",
              "    .colab-df-container {\n",
              "      display:flex;\n",
              "      flex-wrap:wrap;\n",
              "      gap: 12px;\n",
              "    }\n",
              "\n",
              "    .colab-df-convert {\n",
              "      background-color: #E8F0FE;\n",
              "      border: none;\n",
              "      border-radius: 50%;\n",
              "      cursor: pointer;\n",
              "      display: none;\n",
              "      fill: #1967D2;\n",
              "      height: 32px;\n",
              "      padding: 0 0 0 0;\n",
              "      width: 32px;\n",
              "    }\n",
              "\n",
              "    .colab-df-convert:hover {\n",
              "      background-color: #E2EBFA;\n",
              "      box-shadow: 0px 1px 2px rgba(60, 64, 67, 0.3), 0px 1px 3px 1px rgba(60, 64, 67, 0.15);\n",
              "      fill: #174EA6;\n",
              "    }\n",
              "\n",
              "    [theme=dark] .colab-df-convert {\n",
              "      background-color: #3B4455;\n",
              "      fill: #D2E3FC;\n",
              "    }\n",
              "\n",
              "    [theme=dark] .colab-df-convert:hover {\n",
              "      background-color: #434B5C;\n",
              "      box-shadow: 0px 1px 3px 1px rgba(0, 0, 0, 0.15);\n",
              "      filter: drop-shadow(0px 1px 2px rgba(0, 0, 0, 0.3));\n",
              "      fill: #FFFFFF;\n",
              "    }\n",
              "  </style>\n",
              "\n",
              "      <script>\n",
              "        const buttonEl =\n",
              "          document.querySelector('#df-164e944a-6dc6-4354-a44d-24d468e52ddc button.colab-df-convert');\n",
              "        buttonEl.style.display =\n",
              "          google.colab.kernel.accessAllowed ? 'block' : 'none';\n",
              "\n",
              "        async function convertToInteractive(key) {\n",
              "          const element = document.querySelector('#df-164e944a-6dc6-4354-a44d-24d468e52ddc');\n",
              "          const dataTable =\n",
              "            await google.colab.kernel.invokeFunction('convertToInteractive',\n",
              "                                                     [key], {});\n",
              "          if (!dataTable) return;\n",
              "\n",
              "          const docLinkHtml = 'Like what you see? Visit the ' +\n",
              "            '<a target=\"_blank\" href=https://colab.research.google.com/notebooks/data_table.ipynb>data table notebook</a>'\n",
              "            + ' to learn more about interactive tables.';\n",
              "          element.innerHTML = '';\n",
              "          dataTable['output_type'] = 'display_data';\n",
              "          await google.colab.output.renderOutput(dataTable, element);\n",
              "          const docLink = document.createElement('div');\n",
              "          docLink.innerHTML = docLinkHtml;\n",
              "          element.appendChild(docLink);\n",
              "        }\n",
              "      </script>\n",
              "    </div>\n",
              "  </div>\n",
              "  "
            ]
          },
          "metadata": {},
          "execution_count": 32
        }
      ]
    }
  ]
}